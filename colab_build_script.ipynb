
# Google Colab Kivy应用构建脚本
# 此脚本包含防超时机制和优化的构建配置

# 步骤1: 挂载Google Drive
from google.colab import drive
drive.mount('/content/drive')

# 步骤2: 设置工作目录
%cd /content/drive/MyDrive/PokeMMOAutomation

# 步骤3: 安装必要的工具和依赖
!pip install --upgrade pip
!pip install buildozer
!apt-get update
!apt-get install -y git zip unzip openjdk-17-jdk python3-pip autoconf libtool pkg-config zlib1g-dev libncurses5-dev libncursesw5-dev libtinfo5 cmake libffi-dev libssl-dev

# 步骤4: 创建防超时机制
# 在浏览器控制台运行以下代码防止Colab超时:
"""
function ClickConnect(){console.log("Working"); document.querySelector("colab-toolbar-button#connect").click();}
setInterval(ClickConnect, 60000)
"""

# 步骤5: 增加构建超时设置
import os
os.environ['P4A_TIMEOUT'] = '1800'

# 步骤6: 开始优化构建
print("开始构建APK...")
print("首次构建可能需要30-60分钟，请保持页面打开")
print("如果遇到内存问题，可以切换到High-RAM运行时类型")

!buildozer -v android debug

# 步骤7: 检查构建结果
print("
检查构建结果:")
!ls -la bin/ 2>/dev/null || echo "构建失败，未找到bin目录"

# 如果构建成功，显示APK信息
!file bin/*.apk 2>/dev/null || echo "构建可能失败，未找到APK文件"

print("
构建完成！")
print("如果成功，APK文件位于bin目录中")
print("您可以使用左侧文件浏览器下载APK文件")
