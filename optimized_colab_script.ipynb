{
  "cells": [
    {
      "cell_type": "markdown",
      "metadata": {},
      "source": [
        "# PokeMMO自动化 - Google Colab构建指南\n",
        "\n",
        "使用此笔记本将Kivy应用打包为Android APK文件。\n",
        "此版本包含防超时机制和优化的构建配置。"
      ]
    },
    {
      "cell_type": "code",
      "execution_count": null,
      "metadata": {},
      "outputs": [],
      "source": [
        "# 步骤1: 挂载Google Drive\n",
        "from google.colab import drive\n",
        "drive.mount('/content/drive')"
      ]
    },
    {
      "cell_type": "code",
      "execution_count": null,
      "metadata": {},
      "outputs": [],
      "source": [
        "# 步骤2: 设置工作目录\n",
        "%cd /content/drive/MyDrive/PokeMMOAutomation"
      ]
    },
    {
      "cell_type": "markdown",
      "metadata": {},
      "source": [
        "## 防超时提示\n",
        "\n",
        "请在浏览器控制台运行以下代码防止Colab超时:\n",
        "```javascript\n",
        "function ClickConnect(){console.log(\"Working\"); document.querySelector(\"colab-toolbar-button#connect\").click();}\n",
        "setInterval(ClickConnect, 60000)\n",
        "```"
      ]
    },
    {
      "cell_type": "code",
      "execution_count": null,
      "metadata": {},
      "outputs": [],
      "source": [
        "# 步骤3: 安装必要的工具和依赖\n",
        "!pip install --upgrade pip\n",
        "!pip install buildozer\n",
        "!apt-get update\n",
        "!apt-get install -y git zip unzip openjdk-17-jdk python3-pip autoconf libtool pkg-config zlib1g-dev libncurses5-dev libncursesw5-dev libtinfo5 cmake libffi-dev libssl-dev"
      ]
    },
    {
      "cell_type": "code",
      "execution_count": null,
      "metadata": {},
      "outputs": [],
      "source": [
        "# 步骤4: 增加构建超时设置\n",
        "import os\n",
        "os.environ['P4A_TIMEOUT'] = '1800'  # 设置30分钟超时"
      ]
    },
    {
      "cell_type": "markdown",
      "metadata": {},
      "source": [
        "## 内存优化提示\n",
        "\n",
        "如果遇到内存不足错误，请执行以下操作:\n",
        "1. 点击顶部菜单: Runtime -> Change runtime type\n",
        "2. 选择High-RAM选项\n",
        "3. 点击Save后重新运行所有代码块"
      ]
    },
    {
      "cell_type": "code",
      "execution_count": null,
      "metadata": {},
      "outputs": [],
      "source": [
        "# 步骤5: 开始构建\n",
        "print(\"开始构建APK...\")\n",
        "print(\"首次构建可能需要30-60分钟，请保持页面打开\")\n",
        "\n",
        "!buildozer -v android debug"
      ]
    },
    {
      "cell_type": "code",
      "execution_count": null,
      "metadata": {},
      "outputs": [],
      "source": [
        "# 步骤6: 检查构建结果\n",
        "print(\"\\n检查构建结果:\")\n",
        "!ls -la bin/ 2>/dev/null || echo \"构建失败，未找到bin目录\"\n",
        "\n",
        "# 显示APK信息\n",
        "!file bin/*.apk 2>/dev/null || echo \"构建可能失败，未找到APK文件\"\n",
        "\n",
        "print(\"\\n构建完成！\")\n",
        "print(\"如果成功，APK文件位于bin目录中\")\n",
        "print(\"您可以使用左侧文件浏览器下载APK文件\")"
      ]
    },
    {
      "cell_type": "markdown",
      "metadata": {},
      "source": [
        "## 常见问题解决\n",
        "\n",
        "### 如果构建失败:\n",
        "1. 检查错误信息，通常是依赖问题\n",
        "2. 尝试修改buildozer.spec中的依赖版本\n",
        "3. 确保项目文件完整\n",
        "4. 重新运行构建命令\n",
        "\n",
        "### 成功后:\n",
        "1. 下载APK文件到您的电脑\n",
        "2. 将APK传输到Android设备\n",
        "3. 安装并授予必要的权限"
      ]
    }
  ],
  "metadata": {
    "kernelspec": {
      "display_name": "Python 3",
      "language": "python",
      "name": "python3"
    }
  },
  "nbformat": 4,
  "nbformat_minor": 4
}